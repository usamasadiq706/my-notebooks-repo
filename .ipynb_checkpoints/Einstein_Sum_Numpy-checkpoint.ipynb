{
 "cells": [
  {
   "cell_type": "markdown",
   "metadata": {},
   "source": [
    "# Einstein Summation in Numpy"
   ]
  },
  {
   "cell_type": "code",
   "execution_count": 1,
   "metadata": {},
   "outputs": [],
   "source": [
    "# Import dependencies.\n",
    "import numpy as np"
   ]
  },
  {
   "cell_type": "markdown",
   "metadata": {},
   "source": [
    "### Control the printing precision"
   ]
  },
  {
   "cell_type": "code",
   "execution_count": 2,
   "metadata": {},
   "outputs": [],
   "source": [
    "from __future__ import print_function\n",
    "\n",
    "# customize buil_in print() function for setting floating point printing precision.\n",
    "def print(*args):\n",
    "    __builtins__.print( *(\"%.4f\" % a if isinstance(a, float) else a for a in args) )"
   ]
  },
  {
   "cell_type": "code",
   "execution_count": 3,
   "metadata": {},
   "outputs": [],
   "source": [
    "# # to print each floating point number with just four decimal places.\n",
    "# np.set_printoptions( precision = 4, floatmode = 'fixed' ) \n",
    "\n",
    "# # magic command for precision\n",
    "# %precision 4"
   ]
  },
  {
   "cell_type": "markdown",
   "metadata": {},
   "source": [
    "## What is einstein summation ?"
   ]
  },
  {
   "cell_type": "markdown",
   "metadata": {},
   "source": [
    "## All in One !"
   ]
  },
  {
   "cell_type": "markdown",
   "metadata": {},
   "source": [
    " "
   ]
  },
  {
   "cell_type": "markdown",
   "metadata": {},
   "source": [
    "### Scalar product of two scalars"
   ]
  },
  {
   "cell_type": "code",
   "execution_count": 4,
   "metadata": {},
   "outputs": [
    {
     "name": "stdout",
     "output_type": "stream",
     "text": [
      "Inputs\n",
      "8.70317208582332 \t 0.10770224511151838\n",
      "\n",
      " Output\n",
      "0.9373511732350679\n"
     ]
    }
   ],
   "source": [
    "# Creating two scalars\n",
    "a = np.random.uniform(0, 10) \n",
    "b = np.random.uniform(0, 10)\n",
    "\n",
    "print('Inputs')\n",
    "print(a, '\\t', b)\n",
    "\n",
    "# einsum() for scalar product of two scalars.\n",
    "c = np.einsum( ' ,  -> ' , a , b )\n",
    "\n",
    "print('\\n Output')\n",
    "print(c)"
   ]
  },
  {
   "cell_type": "markdown",
   "metadata": {},
   "source": [
    "### Scalar product of a vector with a scalar."
   ]
  },
  {
   "cell_type": "code",
   "execution_count": 5,
   "metadata": {},
   "outputs": [
    {
     "name": "stdout",
     "output_type": "stream",
     "text": [
      "Inputs\n",
      "[0.26364026 6.22436457 4.94399381 2.54848619 5.30700906] \t 8.291959736680154\n",
      "\n",
      " Output\n",
      "[ 2.18609438 51.6121804  40.9953976  21.13194489 44.00550543]\n"
     ]
    }
   ],
   "source": [
    "# Creating one vector and a scalar.\n",
    "a = np.random.uniform(0, 10, (5)) \n",
    "b = np.random.uniform(0, 10)\n",
    "\n",
    "print('Inputs')\n",
    "print(a, '\\t', b)\n",
    "\n",
    "# einsum() for scalar product of a vector with a scalar.\n",
    "c = np.einsum( ' i , -> i' , a , b )\n",
    "\n",
    "print('\\n Output')\n",
    "print(c)"
   ]
  },
  {
   "cell_type": "markdown",
   "metadata": {},
   "source": [
    "### Inner product of two vectors"
   ]
  },
  {
   "cell_type": "code",
   "execution_count": 16,
   "metadata": {},
   "outputs": [
    {
     "name": "stdout",
     "output_type": "stream",
     "text": [
      "Inputs\n",
      "[8.26274076 3.38162913 3.58372194 1.5146837  0.1156425 ] \t [8.45952971 5.18367192 3.67642627 2.15841577 1.31679474]\n",
      "\n",
      " Output\n",
      "104.02504102228008 \n",
      "\n",
      "[69.89890095 17.52925597 13.17528948  3.26931718  0.15227744] \n",
      "\n"
     ]
    }
   ],
   "source": [
    "# Creating one vector and a scalar.\n",
    "a = np.random.uniform(0, 10, (5)) \n",
    "b = np.random.uniform(0, 10, (5))\n",
    "\n",
    "print('Inputs')\n",
    "print(a, '\\t', b)\n",
    "\n",
    "# einsum() for Inner product of two vector.\n",
    "c1 = np.einsum( ' i , i ->  ' , a , b )\n",
    "\n",
    "\n",
    "\n",
    "print('\\n Output')\n",
    "print(c1, '\\n')\n",
    "print(c2, '\\n')"
   ]
  },
  {
   "cell_type": "markdown",
   "metadata": {},
   "source": [
    "### Element-wise product of two vectors"
   ]
  },
  {
   "cell_type": "code",
   "execution_count": 20,
   "metadata": {},
   "outputs": [
    {
     "name": "stdout",
     "output_type": "stream",
     "text": [
      "Inputs\n",
      "[7.39537862 4.89485567 6.56359937 8.74455623 7.74195933] \t [6.94050203 4.74829796 0.56633115 6.22351673 8.19228727]\n",
      "\n",
      " Output\n",
      "[51.32764032 23.24223315  3.71717079 54.42189203 63.42435487] \n",
      "\n"
     ]
    }
   ],
   "source": [
    "a = np.random.uniform(0, 10, (5)) \n",
    "b = np.random.uniform(0, 10, (5))\n",
    "\n",
    "print('Inputs')\n",
    "print(a, '\\t', b)\n",
    "\n",
    "# einsum() for Inner product of two vector.\n",
    "c1 = np.einsum( ' i , i -> i ' , a , b )\n",
    "\n",
    "print('\\n Output')\n",
    "print(c1, '\\n')"
   ]
  },
  {
   "cell_type": "markdown",
   "metadata": {},
   "source": [
    "### Outer product of two vectors."
   ]
  },
  {
   "cell_type": "code",
   "execution_count": 21,
   "metadata": {},
   "outputs": [
    {
     "name": "stdout",
     "output_type": "stream",
     "text": [
      "Inputs\n",
      "[6.96160511 8.38371757 0.34854067] \t [3.58356088 6.87355032 6.38291976]\n",
      "\n",
      " Output\n",
      "[[24.94733576 47.85094303 44.43536681]\n",
      " [30.04356231 57.62590452 53.51259648]\n",
      " [ 1.2490167   2.39571182  2.22470712]]\n"
     ]
    }
   ],
   "source": [
    "# Creating one vector and a scalar.\n",
    "a = np.random.uniform(0, 10, (3)) \n",
    "b = np.random.uniform(0, 10, (3))\n",
    "\n",
    "print('Inputs')\n",
    "print(a, '\\t', b)\n",
    "\n",
    "# einsum() for outer product of two vector.\n",
    "c = np.einsum( ' i , j -> ij ' , a , b )\n",
    "\n",
    "print('\\n Output')\n",
    "print(c)"
   ]
  },
  {
   "cell_type": "markdown",
   "metadata": {},
   "source": [
    "### Matrix Multiplication  "
   ]
  },
  {
   "cell_type": "code",
   "execution_count": 23,
   "metadata": {},
   "outputs": [
    {
     "name": "stdout",
     "output_type": "stream",
     "text": [
      "(4, 3) \t (3, 3)\n",
      "\n",
      " Inputs\n",
      "[[9 4 5]\n",
      " [0 1 3]\n",
      " [2 6 1]\n",
      " [7 2 9]] \n",
      "\n",
      " [[9 5 6]\n",
      " [7 6 2]\n",
      " [8 9 1]]\n",
      "\n",
      " Output\n",
      "[[149 114  67]\n",
      " [ 31  33   5]\n",
      " [ 68  55  25]\n",
      " [149 128  55]] \n",
      "\n",
      "Order of resultant Matrix is: (4, 3)\n"
     ]
    }
   ],
   "source": [
    "A = np.random.randint(0, 10, (4,3))\n",
    "B = np.random.randint(0, 10, (3,3))\n",
    "print(A.shape, '\\t', B.shape)\n",
    "\n",
    "print('\\n Inputs')\n",
    "print(A, '\\n\\n', B)\n",
    "\n",
    "# einsum() for outer product of two vector.\n",
    "C = np.einsum( ' ik , kj -> ij ' , A , B )\n",
    "\n",
    "print('\\n Output')\n",
    "print(C , '\\n')\n",
    "print(\"Order of resultant Matrix is:\", C.shape)"
   ]
  },
  {
   "cell_type": "markdown",
   "metadata": {},
   "source": [
    "## Quadratic products"
   ]
  },
  {
   "cell_type": "code",
   "execution_count": 24,
   "metadata": {},
   "outputs": [
    {
     "name": "stdout",
     "output_type": "stream",
     "text": [
      "\n",
      " Inputs\n",
      "[7 9 5 1] \n",
      "\n",
      " [[2 6 7]\n",
      " [6 0 8]\n",
      " [4 5 1]\n",
      " [2 0 2]] \n",
      "\n",
      " [9 4 9]\n",
      "\n",
      " Output\n",
      "2230\n"
     ]
    }
   ],
   "source": [
    "x = np.random.randint(0, 10, (4))\n",
    "A = np.random.randint(0, 10, (4,3))\n",
    "y = np.random.randint(0, 10, (3))\n",
    "\n",
    "print('\\n Inputs')\n",
    "print(x, '\\n\\n', A, '\\n\\n', y)\n",
    "\n",
    "# einsum() for computing x.T * A * y and output is a scalar.\n",
    "C = np.einsum( ' i, ij, j -> ' , x, A, y )\n",
    "\n",
    "print('\\n Output')\n",
    "print(C)"
   ]
  },
  {
   "cell_type": "markdown",
   "metadata": {},
   "source": [
    "### Matrix (2D - Array) transpose"
   ]
  },
  {
   "cell_type": "code",
   "execution_count": 25,
   "metadata": {},
   "outputs": [
    {
     "name": "stdout",
     "output_type": "stream",
     "text": [
      "\n",
      " Input\n",
      "Input shape is  (2, 3) \n",
      "\n",
      " [[2 0 1]\n",
      " [3 4 7]]\n",
      "\n",
      " Output\n",
      "Output shape is  (3, 2) \n",
      "\n",
      " [[2 3]\n",
      " [0 4]\n",
      " [1 7]]\n"
     ]
    }
   ],
   "source": [
    "A = np.random.randint(0, 10, (2,3))\n",
    "\n",
    "print('\\n Input')\n",
    "print('Input shape is ', A.shape, '\\n\\n', A)\n",
    "\n",
    "# einsum() for computingx.T * A * y and output is a scalar.\n",
    "C = np.einsum( ' ij -> ji ' , A )\n",
    "\n",
    "print('\\n Output')\n",
    "print('Output shape is ', C.shape, '\\n\\n', C )"
   ]
  },
  {
   "cell_type": "markdown",
   "metadata": {},
   "source": [
    "### Tensor(3D/4D-Array) Transpose"
   ]
  },
  {
   "cell_type": "code",
   "execution_count": 27,
   "metadata": {},
   "outputs": [
    {
     "name": "stdout",
     "output_type": "stream",
     "text": [
      "Input shape is   (16, 300, 200, 3)\n",
      "\n",
      " Output shapes are:\n",
      "\n",
      "(16, 3, 300, 200) \t just like images in pytorch. \n",
      " (300, 200, 3, 16) \n",
      " (16, 200, 300, 3) \n",
      " (16, 3, 200, 300) \n",
      "\n",
      " PS: You can do as many permutations of axis you want !!! \n"
     ]
    }
   ],
   "source": [
    "# Make random inputs\n",
    "np_RGB_images = np.random.randint(0, 10, (16, 300, 200, 3)) # shape is (B, H, W, C)\n",
    "\n",
    "print('Input shape is  ', np_RGB_images.shape)\n",
    "\n",
    "T1 = np.einsum( 'ijmn -> injm',  np_RGB_images )   # Output shape is (B, C, H, W)\n",
    "T2 = np.einsum( 'ijmn -> jmni',  np_RGB_images )   # Output shape is (H, W, C, B)\n",
    "T3 = np.einsum( 'ijmn -> imjn',  np_RGB_images )   # Output shape is (B, W, H, C)\n",
    "T4 = np.einsum( 'ijmn -> inmj',  np_RGB_images )   # Output shape is (B, C, W, H)\n",
    "\n",
    "print('\\n Output shapes are:\\n')\n",
    "print(T1.shape ,'\\t just like images in pytorch.', '\\n'  , T2.shape,   '\\n', T3.shape, '\\n', T4.shape, '\\n')\n",
    "print(\" PS: You can do as many permutations of axis you want !!! \")"
   ]
  },
  {
   "cell_type": "code",
   "execution_count": null,
   "metadata": {},
   "outputs": [],
   "source": []
  },
  {
   "cell_type": "code",
   "execution_count": null,
   "metadata": {},
   "outputs": [],
   "source": []
  },
  {
   "cell_type": "code",
   "execution_count": null,
   "metadata": {},
   "outputs": [],
   "source": []
  },
  {
   "cell_type": "code",
   "execution_count": null,
   "metadata": {},
   "outputs": [],
   "source": []
  },
  {
   "cell_type": "code",
   "execution_count": null,
   "metadata": {},
   "outputs": [],
   "source": []
  },
  {
   "cell_type": "code",
   "execution_count": null,
   "metadata": {},
   "outputs": [],
   "source": []
  }
 ],
 "metadata": {
  "kernelspec": {
   "display_name": "Python 3 (ipykernel)",
   "language": "python",
   "name": "python3"
  },
  "language_info": {
   "codemirror_mode": {
    "name": "ipython",
    "version": 3
   },
   "file_extension": ".py",
   "mimetype": "text/x-python",
   "name": "python",
   "nbconvert_exporter": "python",
   "pygments_lexer": "ipython3",
   "version": "3.11.4"
  }
 },
 "nbformat": 4,
 "nbformat_minor": 2
}
